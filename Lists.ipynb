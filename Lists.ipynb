{
  "nbformat": 4,
  "nbformat_minor": 0,
  "metadata": {
    "colab": {
      "provenance": [],
      "authorship_tag": "ABX9TyOHw5qj0EoMxGqyhJ7vC/y/",
      "include_colab_link": true
    },
    "kernelspec": {
      "name": "python3",
      "display_name": "Python 3"
    },
    "language_info": {
      "name": "python"
    }
  },
  "cells": [
    {
      "cell_type": "markdown",
      "metadata": {
        "id": "view-in-github",
        "colab_type": "text"
      },
      "source": [
        "<a href=\"https://colab.research.google.com/github/Mitchmer/Python-lists/blob/main/Lists.ipynb\" target=\"_parent\"><img src=\"https://colab.research.google.com/assets/colab-badge.svg\" alt=\"Open In Colab\"/></a>"
      ]
    },
    {
      "cell_type": "code",
      "source": [
        "list2 = [25.50, True, -55]\n",
        "print(\"Original list: \", list2)\n",
        "\n",
        "list2.pop(1)\n",
        "print(list2.pop(1))\n",
        "\n",
        "list2.pop()\n",
        "print(\"List after popping: \", list2)"
      ],
      "metadata": {
        "colab": {
          "base_uri": "https://localhost:8080/"
        },
        "id": "I7R6u334QmlE",
        "outputId": "fbecd3b7-6599-4b1f-c906-8c919db09374"
      },
      "execution_count": null,
      "outputs": [
        {
          "output_type": "stream",
          "name": "stdout",
          "text": [
            "Original list:  [25.5, True, -55]\n",
            "-55\n",
            "List after popping:  []\n"
          ]
        }
      ]
    },
    {
      "cell_type": "code",
      "source": [
        "lst = [25, 12, 10, -21, 10, 100]\n",
        "for hi in lst:\n",
        "  print (hi)\n",
        "for hi in lst:\n",
        "  print (hi, end=\" \")"
      ],
      "metadata": {
        "colab": {
          "base_uri": "https://localhost:8080/"
        },
        "id": "jX-oWYw6RO28",
        "outputId": "17daed31-6127-4f1f-bf35-db7e3bbf92c1"
      },
      "execution_count": null,
      "outputs": [
        {
          "output_type": "stream",
          "name": "stdout",
          "text": [
            "25\n",
            "12\n",
            "10\n",
            "-21\n",
            "10\n",
            "100\n",
            "25 12 10 -21 10 100 "
          ]
        }
      ]
    },
    {
      "cell_type": "code",
      "source": [
        "indices = range(len(lst))\n",
        "for i in indices:\n",
        "    print(\"lst[{}]: \".format(i), lst[i])"
      ],
      "metadata": {
        "colab": {
          "base_uri": "https://localhost:8080/"
        },
        "id": "uKccy5T9R05d",
        "outputId": "3be2eecd-b988-428d-cf20-7993a834ee0c"
      },
      "execution_count": null,
      "outputs": [
        {
          "output_type": "stream",
          "name": "stdout",
          "text": [
            "lst[0]:  25\n",
            "lst[1]:  12\n",
            "lst[2]:  10\n",
            "lst[3]:  -21\n",
            "lst[4]:  10\n",
            "lst[5]:  100\n"
          ]
        }
      ]
    },
    {
      "cell_type": "code",
      "source": [
        "list_1 = ['s', 'l', 'm', 'a']\n",
        "list_2 = [3, 4, 5, 10]\n",
        "list_1.sort()\n",
        "print(list_1)\n",
        "print(list_2)"
      ],
      "metadata": {
        "colab": {
          "base_uri": "https://localhost:8080/"
        },
        "id": "QhbQYf9FSej3",
        "outputId": "060dceb2-c7c1-43d8-ca36-882e09405784"
      },
      "execution_count": null,
      "outputs": [
        {
          "output_type": "stream",
          "name": "stdout",
          "text": [
            "['a', 'l', 'm', 's']\n",
            "[3, 4, 5, 10]\n"
          ]
        }
      ]
    },
    {
      "cell_type": "code",
      "source": [
        "my_list = [4, 2, 8, 1, 6]\n",
        "my_list.sort(reverse=True)\n",
        "print(my_list)"
      ],
      "metadata": {
        "colab": {
          "base_uri": "https://localhost:8080/"
        },
        "id": "URrAXVq5SymP",
        "outputId": "58e631de-56d3-48f9-c39c-0be4b2000945"
      },
      "execution_count": null,
      "outputs": [
        {
          "output_type": "stream",
          "name": "stdout",
          "text": [
            "[8, 6, 4, 2, 1]\n"
          ]
        }
      ]
    },
    {
      "cell_type": "code",
      "source": [
        "def myFunction(x):\n",
        "    return x%2\n",
        "list1 = [17, 23, 46, 51, 90, 100, 3, 7]\n",
        "list1.sort()\n",
        "list1.sort(key=myFunction)\n",
        "print(list1)\n"
      ],
      "metadata": {
        "colab": {
          "base_uri": "https://localhost:8080/"
        },
        "id": "HAamyR4TS7_x",
        "outputId": "cf556984-946f-405a-925c-fe84bf7bf4ad"
      },
      "execution_count": null,
      "outputs": [
        {
          "output_type": "stream",
          "name": "stdout",
          "text": [
            "[46, 90, 100, 3, 7, 17, 23, 51]\n"
          ]
        }
      ]
    },
    {
      "cell_type": "code",
      "source": [
        "#APPEND\n",
        "list1= [122, 345, 89, \"Sara\"]\n",
        "list1.append(True)\n",
        "print(list1)\n",
        "\n"
      ],
      "metadata": {
        "colab": {
          "base_uri": "https://localhost:8080/"
        },
        "id": "bsqOPA9lWemT",
        "outputId": "2bdc4525-da39-4184-c1b6-12eee023886a"
      },
      "execution_count": null,
      "outputs": [
        {
          "output_type": "stream",
          "name": "stdout",
          "text": [
            "[122, 345, 89, 'Sara', True]\n"
          ]
        }
      ]
    },
    {
      "cell_type": "code",
      "source": [
        "list1.clear()\n",
        "print(list1)"
      ],
      "metadata": {
        "colab": {
          "base_uri": "https://localhost:8080/"
        },
        "id": "eJxQE003WnBg",
        "outputId": "330ba424-b6d3-4feb-ec3f-f0039568fd63"
      },
      "execution_count": null,
      "outputs": [
        {
          "output_type": "stream",
          "name": "stdout",
          "text": [
            "[]\n"
          ]
        }
      ]
    },
    {
      "cell_type": "code",
      "source": [
        "#count\n",
        "list1 = ['1', 1, 11, 1, 1111, 11111, 1, '1111']\n",
        "print(list1.count(1))\n"
      ],
      "metadata": {
        "colab": {
          "base_uri": "https://localhost:8080/"
        },
        "id": "iBcx4sItWqr6",
        "outputId": "1469045e-802e-4b40-d5e0-24f5b21675b5"
      },
      "execution_count": null,
      "outputs": [
        {
          "output_type": "stream",
          "name": "stdout",
          "text": [
            "3\n"
          ]
        }
      ]
    },
    {
      "cell_type": "code",
      "source": [
        "#create a list\n",
        "name = \"Jack\"\n",
        "name = list(name)\n",
        "print(name)"
      ],
      "metadata": {
        "colab": {
          "base_uri": "https://localhost:8080/"
        },
        "id": "I0Qtz-4PW7xP",
        "outputId": "f1ec956c-1335-4698-f935-41e0cc4fe7ca"
      },
      "execution_count": null,
      "outputs": [
        {
          "output_type": "stream",
          "name": "stdout",
          "text": [
            "['J', 'a', 'c', 'k']\n"
          ]
        }
      ]
    },
    {
      "cell_type": "code",
      "source": [
        "clubname = list(\"computer science club\")\n",
        "clubwithoutvowels = []\n",
        "vowels = list(\"aeiou\")\n",
        "for c in clubname:\n",
        "  if not c in vowels:\n",
        "    clubwithoutvowels.append(c)\n",
        "\n",
        "print(clubwithoutvowels)\n"
      ],
      "metadata": {
        "colab": {
          "base_uri": "https://localhost:8080/"
        },
        "id": "qtgh3xeZXDka",
        "outputId": "e3e051e9-8c3a-4043-bd20-2c1b01bd2512"
      },
      "execution_count": null,
      "outputs": [
        {
          "output_type": "stream",
          "name": "stdout",
          "text": [
            "['c', 'm', 'p', 't', 'r', ' ', 's', 'c', 'n', 'c', ' ', 'c', 'l', 'b']\n"
          ]
        }
      ]
    },
    {
      "cell_type": "code",
      "source": [
        "num_list = [1, 4, 6, 23, 4, 1, 7, 3, 8, 3245, 9, 10, 54, 2, 6, 3, 4, 1, 87, 9]\n",
        "no_dupes_list = []\n",
        "for num in num_list:\n",
        "  if not num in no_dupes_list:\n",
        "    no_dupes_list.append(num)\n",
        "\n",
        "print(no_dupes_list)"
      ],
      "metadata": {
        "colab": {
          "base_uri": "https://localhost:8080/"
        },
        "id": "80Ddr_Q4YAa3",
        "outputId": "bc565081-882a-48d1-9005-f0cccd70a93d"
      },
      "execution_count": null,
      "outputs": [
        {
          "output_type": "stream",
          "name": "stdout",
          "text": [
            "[1, 4, 6, 23, 7, 3, 8, 3245, 9, 10, 54, 2, 87]\n"
          ]
        }
      ]
    }
  ]
}